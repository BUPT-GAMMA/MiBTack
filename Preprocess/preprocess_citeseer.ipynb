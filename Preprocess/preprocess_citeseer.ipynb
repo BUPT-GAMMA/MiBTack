{
 "cells": [
  {
   "cell_type": "code",
   "execution_count": 1,
   "metadata": {
    "pycharm": {
     "name": "#%%\n"
    }
   },
   "outputs": [],
   "source": [
    "import torch\n",
    "import numpy as np\n",
    "import torch.nn.functional as F\n",
    "from deeprobust.graph.utils import *\n",
    "from deeprobust.graph.data import Dataset\n",
    "import argparse"
   ]
  },
  {
   "cell_type": "code",
   "execution_count": 2,
   "metadata": {
    "pycharm": {
     "name": "#%%\n"
    }
   },
   "outputs": [
    {
     "name": "stdout",
     "output_type": "stream",
     "text": [
      "Loading citeseer dataset...\n",
      "Selecting 1 largest connected components\n"
     ]
    }
   ],
   "source": [
    "data = Dataset(root='/home/zmm/advUnno/dataset/raw', name='citeseer', setting='nettack')\n",
    "adj, features, labels = data.adj, data.features, data.labels\n",
    "idx_train, idx_val, idx_test = data.idx_train, data.idx_val, data.idx_test\n",
    "idx_train = torch.LongTensor(idx_train)\n",
    "idx_val = torch.LongTensor(idx_val)\n",
    "idx_test = torch.LongTensor(idx_test)\n",
    "features = torch.FloatTensor(np.array(features.todense()))\n",
    "labels = torch.LongTensor(labels)"
   ]
  },
  {
   "cell_type": "code",
   "execution_count": 3,
   "metadata": {
    "pycharm": {
     "name": "#%%\n"
    }
   },
   "outputs": [
    {
     "name": "stdout",
     "output_type": "stream",
     "text": [
      "torch.Size([210]) torch.Size([211]) torch.Size([1688])\n",
      "tensor([1, 4, 4,  ..., 3, 1, 1])\n"
     ]
    }
   ],
   "source": [
    "print(idx_train.shape, idx_val.shape, idx_test.shape)\n",
    "print(labels)"
   ]
  },
  {
   "cell_type": "code",
   "execution_count": 4,
   "metadata": {
    "pycharm": {
     "name": "#%%\n"
    }
   },
   "outputs": [
    {
     "data": {
      "text/plain": [
       "(<2110x2110 sparse matrix of type '<class 'numpy.float32'>'\n",
       " \twith 7336 stored elements in Compressed Sparse Row format>,\n",
       " tensor([[0., 0., 0.,  ..., 0., 0., 0.],\n",
       "         [0., 0., 0.,  ..., 0., 0., 0.],\n",
       "         [0., 0., 0.,  ..., 0., 0., 0.],\n",
       "         ...,\n",
       "         [0., 0., 0.,  ..., 0., 0., 0.],\n",
       "         [0., 0., 0.,  ..., 0., 0., 0.],\n",
       "         [0., 0., 0.,  ..., 0., 0., 0.]]),\n",
       " tensor([1, 4, 4,  ..., 3, 1, 1]))"
      ]
     },
     "execution_count": 4,
     "metadata": {},
     "output_type": "execute_result"
    }
   ],
   "source": [
    "adj, features, labels"
   ]
  },
  {
   "cell_type": "code",
   "execution_count": 5,
   "metadata": {
    "pycharm": {
     "name": "#%%\n"
    }
   },
   "outputs": [
    {
     "name": "stdout",
     "output_type": "stream",
     "text": [
      "[array([ 681,  529,  250, 1177,  423,  893,  254,  955,  751, 1124,  600,\n",
      "        329, 1500,  332,  221,  522, 1827,  304,  963,  753,  587,  141,\n",
      "        945,  462, 1463,  635, 2010, 1926, 1693,  854,  628,  158, 1744,\n",
      "        849,  917,  836,  838,  276,  958, 2077, 1856,    2,  151,  526,\n",
      "        368,  317,  178,  614,   59,  876]), array([1264, 1759, 1983,   83, 1327, 1535,  747,  487, 1208,  484, 1564,\n",
      "       1485, 1905,  648, 1770,  858, 1465,  400, 1359, 1769, 1661,  358,\n",
      "        585, 1004, 1671, 1201, 1020,  256,  963,  802, 1708, 1756, 1073,\n",
      "        111, 1679, 1795,  903, 1178,  601, 1361,  548,  212, 1156,  634,\n",
      "       1450, 1261, 1384,  777,  418,  529]), array([1270,  123,  612, 1022, 2050, 1845,  898, 1555,  855,    4,  795,\n",
      "        283,  307, 1703,  658, 1244,  415,  428, 1503, 1079, 1694, 1808,\n",
      "       1141,  842,   19, 1077, 2048, 1217,  783,  164, 1578,  959,  603,\n",
      "       1299,  124,  958, 1742,  613,  442,  805,  121,  858, 1816, 1050,\n",
      "        305,  240, 1971, 1056,  251, 1641]), array([ 975,  373,  963, 1454, 1244, 1727, 2083, 1518, 1378, 1445,  654,\n",
      "       1448, 1039,  331,  733,  682, 1001, 1982, 1146, 1578,  543,   62,\n",
      "        909, 1558, 1770,  196, 1388, 1185, 1120, 1725, 1591,  136,  890,\n",
      "          1,  810, 1340,  872, 1005,  269,  459,  575, 1284, 1524, 1968,\n",
      "       1188,  161,  313,  953,  493, 1651]), array([2108,  919,  827, 1663, 1876,   24, 1083, 1744,   52,  886, 1805,\n",
      "       1624, 1384, 2105, 1914, 1891,  528, 1907,  602,  588, 1171,  888,\n",
      "       1220,  681, 1735, 1473, 1060,  274,  598, 1255,  956, 1069, 1887,\n",
      "        138,  780,  959, 2084, 1121, 1544, 1073,  915, 1408,  485,  970,\n",
      "        730, 1917, 1119,  560,  700,  196])]\n"
     ]
    }
   ],
   "source": [
    "# 划分target\n",
    "import random\n",
    "seed = 19\n",
    "np.random.seed(seed)\n",
    "target_sets = []\n",
    "for _ in range(5):\n",
    "    target_sets.append(np.random.choice(idx_test.numpy(), 50, replace=False))\n",
    "print(target_sets)"
   ]
  },
  {
   "cell_type": "code",
   "execution_count": 6,
   "metadata": {
    "pycharm": {
     "name": "#%%\n"
    }
   },
   "outputs": [],
   "source": [
    "'''\n",
    "adj:对称，无自环，未归一化\n",
    "features：未归一化\n",
    "idx_train, idx_val, idx_test：0.1/0.1/0.8\n",
    "sens：contry信息\n",
    "'''\n",
    "import pickle as pkl\n",
    "with open('/home/zmm/advUnno/dataset/citeseer.pkl','wb') as f:\n",
    "    pkl.dump([adj, features, labels, idx_train, idx_val, idx_test, target_sets, []],f)"
   ]
  },
  {
   "cell_type": "code",
   "execution_count": null,
   "metadata": {
    "pycharm": {
     "name": "#%%\n"
    }
   },
   "outputs": [],
   "source": []
  }
 ],
 "metadata": {
  "kernelspec": {
   "display_name": "Python 3",
   "language": "python",
   "name": "python3"
  },
  "language_info": {
   "codemirror_mode": {
    "name": "ipython",
    "version": 3
   },
   "file_extension": ".py",
   "mimetype": "text/x-python",
   "name": "python",
   "nbconvert_exporter": "python",
   "pygments_lexer": "ipython3",
   "version": "3.6.10"
  }
 },
 "nbformat": 4,
 "nbformat_minor": 4
}