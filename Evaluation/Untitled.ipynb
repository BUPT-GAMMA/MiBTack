{
 "cells": [
  {
   "cell_type": "code",
   "execution_count": 3,
   "metadata": {},
   "outputs": [
    {
     "name": "stdout",
     "output_type": "stream",
     "text": [
      "(19717, 19717) 44325.5 (19717, 500) tensor(2) 1971 1972 15774\n",
      "Test set results: loss= 0.4365 accuracy= 0.8577\n"
     ]
    },
    {
     "data": {
      "text/plain": [
       "tensor(0.8577, device='cuda:0', dtype=torch.float64)"
      ]
     },
     "execution_count": 3,
     "metadata": {},
     "output_type": "execute_result"
    }
   ],
   "source": [
    "import torch\n",
    "import numpy as np\n",
    "import sys\n",
    "sys.path.append(\"..\")\n",
    "from Preprocess.preprocessing import *\n",
    "import torch.nn.functional as F\n",
    "import torch.optim as optim\n",
    "from deeprobust.graph.defense import GCN\n",
    "from deeprobust.graph.utils import *\n",
    "from deeprobust.graph.data import Dataset\n",
    "from tqdm import tqdm\n",
    "import argparse\n",
    "import random\n",
    "import copy\n",
    "import scipy\n",
    "\n",
    "dataset = 'pubmed'\n",
    "\n",
    "config = Config(dataset)\n",
    "config.device = 0\n",
    "device = config.device\n",
    "\n",
    "seed = 19\n",
    "torch.manual_seed(seed)\n",
    "np.random.seed(seed)\n",
    "random.seed(seed)\n",
    "\n",
    "data = Data(dataset, dataset+'_ft_norm')\n",
    "\n",
    "print(data.adj.shape, data.adj.nonzero()[0].shape[0]/2, data.features_norm.shape, data.labels.max(), data.idx_train.shape[0], data.idx_val.shape[0], data.idx_test.shape[0])\n",
    "\n",
    "data.idx_unlabeled = np.union1d(data.idx_val, data.idx_test)\n",
    "\n",
    "# Setup Surrogate model\n",
    "surrogate = GCN(nfeat=data.features.shape[1], nclass=data.labels.max().item()+1,\n",
    "                            nhid=config.eval_hidden, dropout=config.eval_dropout, weight_decay=config.eval_weight_decay,\n",
    "                           device=config.device).to(config.device) \n",
    "\n",
    "surrogate = surrogate.to(device)\n",
    "surrogate.fit(data.features_norm, data.adj, data.labels, data.idx_train, data.idx_val, normalize=True)\n",
    "surrogate.test(data.idx_test)"
   ]
  },
  {
   "cell_type": "code",
   "execution_count": null,
   "metadata": {},
   "outputs": [],
   "source": []
  }
 ],
 "metadata": {
  "kernelspec": {
   "display_name": "Python 3",
   "language": "python",
   "name": "python3"
  },
  "language_info": {
   "codemirror_mode": {
    "name": "ipython",
    "version": 3
   },
   "file_extension": ".py",
   "mimetype": "text/x-python",
   "name": "python",
   "nbconvert_exporter": "python",
   "pygments_lexer": "ipython3",
   "version": "3.6.10"
  }
 },
 "nbformat": 4,
 "nbformat_minor": 4
}
